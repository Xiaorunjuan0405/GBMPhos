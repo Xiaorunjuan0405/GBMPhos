{
 "cells": [
  {
   "cell_type": "code",
   "execution_count": 4,
   "id": "8b84872f",
   "metadata": {},
   "outputs": [],
   "source": [
    "from sklearn.tree import DecisionTreeClassifier\n",
    "from sklearn.model_selection import train_test_split\n",
    "from sklearn.metrics import accuracy_score, classification_report\n",
    "import os\n",
    "import random\n",
    "import numpy as np\n",
    "from torch.utils.data import DataLoader, TensorDataset, Dataset, random_split\n",
    "import torch\n",
    "from sklearn.model_selection import StratifiedKFold, train_test_split\n",
    "import warnings\n",
    "torch.backends.cudnn.benchmark = True\n",
    "warnings.filterwarnings('ignore')\n",
    "import torch.nn as nn\n",
    "from sklearn.metrics import confusion_matrix, roc_auc_score"
   ]
  },
  {
   "cell_type": "code",
   "execution_count": 5,
   "id": "79018f4a",
   "metadata": {},
   "outputs": [],
   "source": [
    "def onehot_encoding(seqs):\n",
    "    # 确定蛋白质序列的长度，保存到一个变量中\n",
    "    seq_length = len(seqs[0])\n",
    "    # 初始化一个二维数组，行数为蛋白质序列的长度，列数为编码维度，每个元素都为0\n",
    "    one_hot = np.zeros((seq_length, 20))\n",
    "    # 遍历每个氨基酸序列，根据其在氨基酸表中的位置，在对应的列上将值设为1\n",
    "    aa_table = {'A': 0, 'R': 1, 'N': 2, 'D': 3, 'C': 4, 'Q': 5, 'E': 6, 'G': 7, 'H': 8, 'I': 9,\n",
    "                'L': 10, 'K': 11, 'M': 12, 'F': 13, 'P': 14, 'S': 15, 'T': 16, 'W': 17, 'Y': 18, 'V': 19}\n",
    "    encoded_sequences = []\n",
    "    for seq in seqs:\n",
    "        for i, aa in enumerate(seq):\n",
    "            one_hot[i, aa_table[aa]] = 1\n",
    "        encoded_sequences.append(one_hot)\n",
    "        one_hot = np.zeros((seq_length, 20))\n",
    "    # 将编码后的二维数组保存到一个列表中，依次存储所有蛋白质序列的编码\n",
    "    encoded_sequences = np.array(encoded_sequences)\n",
    "    return encoded_sequences\n",
    "def load_and_encoding(filename, encoding_size):\n",
    "    with open(filename, encoding='utf-8') as f_in:\n",
    "        lines = f_in.readlines()\n",
    "    data = []\n",
    "    labels = []\n",
    "    for line in lines:\n",
    "        nums = [float(num) for num in line.strip().split(',')]\n",
    "        data_nums = np.array(nums[1:]).reshape(33, encoding_size)\n",
    "        data.append(data_nums)\n",
    "        label_nums = nums[0]\n",
    "        labels.append(label_nums)\n",
    "\n",
    "    data = np.array(data)\n",
    "    labels = np.array(labels)\n",
    "\n",
    "    return data, labels\n",
    "def load_data(filename):\n",
    "    \"\"\"加载数据\n",
    "    单条格式：(文本, 标签id)\n",
    "    \"\"\"\n",
    "    D = []\n",
    "    seq = []\n",
    "    labels = []\n",
    "    with open(filename, encoding='utf-8') as f:\n",
    "        for l in f:\n",
    "            text, label = l.strip().split(' ')\n",
    "            text = text.replace(\"'\", \"\")\n",
    "            label = label.replace(\"'\", \"\")\n",
    "            label = int(label)\n",
    "            D.append((text, label))\n",
    "            seq.append(text)\n",
    "            labels.append(label)\n",
    "    return D, seq, labels\n",
    "def seed_torch(seed=999):\n",
    "    random.seed(seed)\n",
    "    os.environ['PYTHONHASHSEED'] = str(seed)  # 为了禁止hash随机化，使得实验可复现\n",
    "    np.random.seed(seed)\n",
    "    torch.manual_seed(seed)\n",
    "    torch.cuda.manual_seed(seed)\n",
    "    torch.cuda.manual_seed_all(seed)  # if you are using multi-GPU.\n",
    "    torch.backends.cudnn.benchmark = False\n",
    "    torch.backends.cudnn.deterministic = True"
   ]
  },
  {
   "cell_type": "code",
   "execution_count": 6,
   "id": "873c9afc",
   "metadata": {},
   "outputs": [],
   "source": [
    "seed_torch()\n",
    "all_data, seq, label = load_data('datasets/ST_1.csv')\n",
    "onehot_out = onehot_encoding(seq)\n",
    "\n",
    "blo_out, label = load_and_encoding(\"feature/BLOSUM62/data_ST.csv\", 20)\n",
    "zscale_out, label = load_and_encoding('feature/ZScale/data_ST.csv', 5)\n",
    "bin51_out, label = load_and_encoding('feature/binary/data_ST_51.csv', 5)\n",
    "bin52_out,label = load_and_encoding('feature/binary/data_ST_52.csv', 5)\n",
    "\n",
    "onehot_out = torch.from_numpy(onehot_out)\n",
    "blo_out = torch.from_numpy(blo_out)\n",
    "zscale_out = torch.from_numpy(zscale_out)\n",
    "bin51_out = torch.from_numpy(bin51_out)\n",
    "bin52_out = torch.from_numpy(bin52_out)\n",
    "label = torch.from_numpy(label)"
   ]
  },
  {
   "cell_type": "code",
   "execution_count": 7,
   "id": "855154c5",
   "metadata": {},
   "outputs": [],
   "source": [
    "data = torch.cat((onehot_out, blo_out, zscale_out, bin51_out,bin52_out), dim=2)\n",
    "\n",
    "data = np.array(data)\n",
    "label = np.array(label)"
   ]
  },
  {
   "cell_type": "code",
   "execution_count": 8,
   "id": "90659993",
   "metadata": {},
   "outputs": [],
   "source": [
    "x_train, x_test, y_train, y_test = train_test_split(data, label, test_size=0.2, random_state=100)"
   ]
  },
  {
   "cell_type": "code",
   "execution_count": 9,
   "id": "b26acc52",
   "metadata": {},
   "outputs": [
    {
     "name": "stdout",
     "output_type": "stream",
     "text": [
      "(8619, 1815)\n",
      "(2155, 1815)\n"
     ]
    }
   ],
   "source": [
    "x_test = x_test.reshape(x_test.shape[0], -1)\n",
    "x_train = x_train.reshape(x_train.shape[0], -1)\n",
    "print(x_train.shape)\n",
    "print(x_test.shape)"
   ]
  },
  {
   "cell_type": "code",
   "execution_count": 11,
   "id": "37c8f55d",
   "metadata": {},
   "outputs": [],
   "source": [
    "# 创建决策树模型并训练\n",
    "model = DecisionTreeClassifier(random_state=42)\n",
    "model.fit(x_train, y_train)\n",
    "# 在测试集上进行预测\n",
    "y_pred = model.predict(x_test)"
   ]
  },
  {
   "cell_type": "code",
   "execution_count": 12,
   "id": "cd4cba71",
   "metadata": {},
   "outputs": [
    {
     "name": "stdout",
     "output_type": "stream",
     "text": [
      "[[743 360]\n",
      " [303 749]]\n",
      "Sensitivity (SN): 0.7120\n",
      "Specificity (SP): 0.6736\n",
      "Accuracy (ACC): 0.6923\n",
      "MCC: 0.3857\n",
      "AUC: 0.6928\n"
     ]
    }
   ],
   "source": [
    "# 输出混淆矩阵\n",
    "conf_matrix = confusion_matrix(y_test, y_pred)\n",
    "print(conf_matrix)\n",
    "\n",
    "# 输出其他性能指标\n",
    "tn, fp, fn, tp = conf_matrix.ravel()\n",
    "sn = tp / (tp + fn)\n",
    "sp = tn / (tn + fp)\n",
    "acc = accuracy_score(y_test, y_pred)\n",
    "mcc = (tp * tn - fp * fn) / ((tp + fp) * (tp + fn) * (tn + fp) * (tn + fn)) ** 0.5\n",
    "auc = roc_auc_score(y_test, model.predict_proba(x_test)[:, 1])\n",
    "\n",
    "print(f'Sensitivity (SN): {sn:.4f}')\n",
    "print(f'Specificity (SP): {sp:.4f}')\n",
    "print(f'Accuracy (ACC): {acc:.4f}')\n",
    "print(f'MCC: {mcc:.4f}')\n",
    "print(f'AUC: {auc:.4f}')"
   ]
  },
  {
   "cell_type": "code",
   "execution_count": null,
   "id": "dcaa12f0",
   "metadata": {},
   "outputs": [],
   "source": []
  }
 ],
 "metadata": {
  "kernelspec": {
   "display_name": "Deepro",
   "language": "python",
   "name": "deepro"
  },
  "language_info": {
   "codemirror_mode": {
    "name": "ipython",
    "version": 3
   },
   "file_extension": ".py",
   "mimetype": "text/x-python",
   "name": "python",
   "nbconvert_exporter": "python",
   "pygments_lexer": "ipython3",
   "version": "3.7.12"
  }
 },
 "nbformat": 4,
 "nbformat_minor": 5
}
