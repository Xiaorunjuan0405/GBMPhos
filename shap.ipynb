{
 "cells": [
  {
   "cell_type": "code",
   "execution_count": 1,
   "metadata": {
    "ExecuteTime": {
     "end_time": "2023-10-13T07:43:01.165699Z",
     "start_time": "2023-10-13T07:42:55.857773Z"
    }
   },
   "outputs": [
    {
     "name": "stderr",
     "output_type": "stream",
     "text": [
      "C:\\Users\\20432\\Anaconda\\lib\\site-packages\\dask\\config.py:131: YAMLLoadWarning: calling yaml.load() without Loader=... is deprecated, as the default Loader is unsafe. Please read https://msg.pyyaml.org/load for full details.\n",
      "  data = yaml.load(f.read()) or {}\n",
      "C:\\Users\\20432\\Anaconda\\lib\\site-packages\\dask\\dataframe\\utils.py:13: FutureWarning: pandas.util.testing is deprecated. Use the functions in the public API at pandas.testing instead.\n",
      "  import pandas.util.testing as tm\n",
      "C:\\Users\\20432\\Anaconda\\lib\\site-packages\\distributed\\config.py:20: YAMLLoadWarning: calling yaml.load() without Loader=... is deprecated, as the default Loader is unsafe. Please read https://msg.pyyaml.org/load for full details.\n",
      "  defaults = yaml.load(f)\n"
     ]
    }
   ],
   "source": [
    "from numpy import sort\n",
    "from xgboost import XGBClassifier\n",
    "# from xgboost.sklearn import XGBClassifier\n",
    "from sklearn.model_selection import train_test_split\n",
    "\n",
    "from sklearn.feature_selection import SelectFromModel\n",
    "from sklearn.ensemble import RandomForestClassifier,AdaBoostClassifier,GradientBoostingClassifier,ExtraTreesClassifier,GradientBoostingRegressor\n",
    "from sklearn.tree import DecisionTreeClassifier\n",
    "\n",
    "import random\n",
    "import pandas as pd\n",
    "import numpy as np\n",
    "\n",
    "from sklearn.metrics import roc_curve, auc, precision_recall_fscore_support,accuracy_score\n",
    "from sklearn.metrics import roc_auc_score\n",
    "from sklearn.metrics import matthews_corrcoef\n",
    "\n",
    "from sklearn import svm\n",
    "\n",
    "\n",
    "from sklearn.linear_model import LogisticRegression\n",
    "from mlxtend.classifier import StackingCVClassifier,StackingClassifier\n",
    "from sklearn.neighbors import KNeighborsClassifier\n",
    "\n",
    "from sklearn.linear_model import SGDClassifier\n",
    "\n",
    "from sklearn.ensemble import BaggingClassifier\n",
    "from sklearn.model_selection import KFold\n",
    "\n",
    "import lightgbm as lgb \n"
   ]
  },
  {
   "cell_type": "code",
   "execution_count": 2,
   "metadata": {
    "ExecuteTime": {
     "end_time": "2023-10-13T07:43:10.381324Z",
     "start_time": "2023-10-13T07:43:01.165699Z"
    }
   },
   "outputs": [],
   "source": [
    "data1=pd.read_csv(\"E:研究/在做/i6mA-vote/处理后的数据/Rosaceaetr_binary_EIIP.csv\",encoding='gbk',engine='python',header=None)\n",
    "data2=pd.read_csv(\"E:研究/在做/i6mA-vote/处理后的数据/Rosaceaete+binary+EIIP.csv\",encoding='gbk',engine='python',header=None)\n",
    "# print(data1.shape,data2.shape)"
   ]
  },
  {
   "cell_type": "code",
   "execution_count": 3,
   "metadata": {
    "ExecuteTime": {
     "end_time": "2023-10-13T07:43:10.420044Z",
     "start_time": "2023-10-13T07:43:10.382691Z"
    }
   },
   "outputs": [],
   "source": [
    "data1 = np.array(data1)\n",
    "data2 = np.array(data2)"
   ]
  },
  {
   "cell_type": "code",
   "execution_count": 4,
   "metadata": {
    "ExecuteTime": {
     "end_time": "2023-10-13T07:43:10.428258Z",
     "start_time": "2023-10-13T07:43:10.421620Z"
    }
   },
   "outputs": [
    {
     "name": "stdout",
     "output_type": "stream",
     "text": [
      "[1. 1. 1. ... 0. 0. 0.]\n",
      "(14598,)\n"
     ]
    }
   ],
   "source": [
    "train_y =data1[:,0] \n",
    "test_y = data2[:,0]\n",
    "print(train_y)\n",
    "print(test_y.shape)"
   ]
  },
  {
   "cell_type": "code",
   "execution_count": 5,
   "metadata": {
    "ExecuteTime": {
     "end_time": "2023-10-13T07:43:10.464113Z",
     "start_time": "2023-10-13T07:43:10.429489Z"
    }
   },
   "outputs": [],
   "source": [
    "train_x = np.delete(data1,0, axis = 1)\n",
    "test_x = np.delete(data2,0,axis=1)"
   ]
  },
  {
   "cell_type": "code",
   "execution_count": 6,
   "metadata": {
    "ExecuteTime": {
     "end_time": "2023-10-13T07:43:12.352886Z",
     "start_time": "2023-10-13T07:43:12.346585Z"
    }
   },
   "outputs": [],
   "source": [
    "model1 = XGBClassifier(random_state=10,n_jobs=-1)\n",
    "model2 = GradientBoostingClassifier(random_state=10)\n",
    "model3 = lgb.LGBMClassifier(random_state=10,n_jobs=-1)\n",
    "stack=model1\n"
   ]
  },
  {
   "cell_type": "code",
   "execution_count": 7,
   "metadata": {
    "ExecuteTime": {
     "end_time": "2023-10-13T07:43:24.454130Z",
     "start_time": "2023-10-13T07:43:14.382367Z"
    }
   },
   "outputs": [
    {
     "data": {
      "text/plain": [
       "XGBClassifier(base_score=0.5, booster='gbtree', colsample_bylevel=1,\n",
       "              colsample_bynode=1, colsample_bytree=1, gamma=0, gpu_id=-1,\n",
       "              importance_type='gain', interaction_constraints='',\n",
       "              learning_rate=0.300000012, max_delta_step=0, max_depth=6,\n",
       "              min_child_weight=1, missing=nan, monotone_constraints='()',\n",
       "              n_estimators=100, n_jobs=-1, num_parallel_tree=1, random_state=10,\n",
       "              reg_alpha=0, reg_lambda=1, scale_pos_weight=1, subsample=1,\n",
       "              tree_method='exact', validate_parameters=1, verbosity=None)"
      ]
     },
     "execution_count": 7,
     "metadata": {},
     "output_type": "execute_result"
    }
   ],
   "source": [
    "stack.fit(train_x, train_y)"
   ]
  },
  {
   "cell_type": "code",
   "execution_count": 15,
   "metadata": {
    "ExecuteTime": {
     "end_time": "2023-10-13T07:52:10.422443Z",
     "start_time": "2023-10-13T07:51:57.732771Z"
    }
   },
   "outputs": [],
   "source": [
    "import shap\n",
    "\n",
    "\n",
    "explainer = shap.TreeExplainer(stack)\n",
    "shap_values = explainer.shap_values(train_x) # 传入特征矩阵X，计算SHAP值"
   ]
  },
  {
   "cell_type": "code",
   "execution_count": 16,
   "metadata": {
    "ExecuteTime": {
     "end_time": "2023-10-13T07:52:10.426689Z",
     "start_time": "2023-10-13T07:52:10.424473Z"
    }
   },
   "outputs": [
    {
     "name": "stdout",
     "output_type": "stream",
     "text": [
      "(58670, 205)\n"
     ]
    }
   ],
   "source": [
    "print(shap_values.shape)"
   ]
  },
  {
   "cell_type": "code",
   "execution_count": 13,
   "metadata": {
    "ExecuteTime": {
     "end_time": "2023-10-13T07:51:04.502866Z",
     "start_time": "2023-10-13T07:51:04.498175Z"
    }
   },
   "outputs": [
    {
     "name": "stdout",
     "output_type": "stream",
     "text": [
      "['One-hot_0', 'One-hot_1', 'One-hot_2', 'One-hot_3', 'One-hot_4', 'One-hot_5', 'One-hot_6', 'One-hot_7', 'One-hot_8', 'One-hot_9', 'One-hot_10', 'One-hot_11', 'One-hot_12', 'One-hot_13', 'One-hot_14', 'One-hot_15', 'One-hot_16', 'One-hot_17', 'One-hot_18', 'One-hot_19', 'One-hot_20', 'One-hot_21', 'One-hot_22', 'One-hot_23', 'One-hot_24', 'One-hot_25', 'One-hot_26', 'One-hot_27', 'One-hot_28', 'One-hot_29', 'One-hot_30', 'One-hot_31', 'One-hot_32', 'One-hot_33', 'One-hot_34', 'One-hot_35', 'One-hot_36', 'One-hot_37', 'One-hot_38', 'One-hot_39', 'One-hot_40', 'One-hot_41', 'One-hot_42', 'One-hot_43', 'One-hot_44', 'One-hot_45', 'One-hot_46', 'One-hot_47', 'One-hot_48', 'One-hot_49', 'One-hot_50', 'One-hot_51', 'One-hot_52', 'One-hot_53', 'One-hot_54', 'One-hot_55', 'One-hot_56', 'One-hot_57', 'One-hot_58', 'One-hot_59', 'One-hot_60', 'One-hot_61', 'One-hot_62', 'One-hot_63', 'One-hot_64', 'One-hot_65', 'One-hot_66', 'One-hot_67', 'One-hot_68', 'One-hot_69', 'One-hot_70', 'One-hot_71', 'One-hot_72', 'One-hot_73', 'One-hot_74', 'One-hot_75', 'One-hot_76', 'One-hot_77', 'One-hot_78', 'One-hot_79', 'One-hot_80', 'One-hot_81', 'One-hot_82', 'One-hot_83', 'One-hot_84', 'One-hot_85', 'One-hot_86', 'One-hot_87', 'One-hot_88', 'One-hot_89', 'One-hot_90', 'One-hot_91', 'One-hot_92', 'One-hot_93', 'One-hot_94', 'One-hot_95', 'One-hot_96', 'One-hot_97', 'One-hot_98', 'One-hot_99', 'One-hot_100', 'One-hot_101', 'One-hot_102', 'One-hot_103', 'One-hot_104', 'One-hot_105', 'One-hot_106', 'One-hot_107', 'One-hot_108', 'One-hot_109', 'One-hot_110', 'One-hot_111', 'One-hot_112', 'One-hot_113', 'One-hot_114', 'One-hot_115', 'One-hot_116', 'One-hot_117', 'One-hot_118', 'One-hot_119', 'One-hot_120', 'One-hot_121', 'One-hot_122', 'One-hot_123', 'One-hot_124', 'One-hot_125', 'One-hot_126', 'One-hot_127', 'One-hot_128', 'One-hot_129', 'One-hot_130', 'One-hot_131', 'One-hot_132', 'One-hot_133', 'One-hot_134', 'One-hot_135', 'One-hot_136', 'One-hot_137', 'One-hot_138', 'One-hot_139', 'One-hot_140', 'One-hot_141', 'One-hot_142', 'One-hot_143', 'One-hot_144', 'One-hot_145', 'One-hot_146', 'One-hot_147', 'One-hot_148', 'One-hot_149', 'One-hot_150', 'One-hot_151', 'One-hot_152', 'One-hot_153', 'One-hot_154', 'One-hot_155', 'One-hot_156', 'One-hot_157', 'One-hot_158', 'One-hot_159', 'One-hot_160', 'One-hot_161', 'One-hot_162', 'One-hot_163', 'EIIP_0', 'EIIP_1', 'EIIP_2', 'EIIP_3', 'EIIP_4', 'EIIP_5', 'EIIP_6', 'EIIP_7', 'EIIP_8', 'EIIP_9', 'EIIP_10', 'EIIP_11', 'EIIP_12', 'EIIP_13', 'EIIP_14', 'EIIP_15', 'EIIP_16', 'EIIP_17', 'EIIP_18', 'EIIP_19', 'EIIP_20', 'EIIP_21', 'EIIP_22', 'EIIP_23', 'EIIP_24', 'EIIP_25', 'EIIP_26', 'EIIP_27', 'EIIP_28', 'EIIP_29', 'EIIP_30', 'EIIP_31', 'EIIP_32', 'EIIP_33', 'EIIP_34', 'EIIP_35', 'EIIP_36', 'EIIP_37', 'EIIP_38', 'EIIP_39', 'EIIP_40']\n"
     ]
    }
   ],
   "source": [
    "name=[]\n",
    "for i in range(164):\n",
    "    name.append('One-hot_'+str(i))\n",
    "for j in range(41):\n",
    "    name.append('EIIP_'+str(j))\n",
    "print(name)"
   ]
  },
  {
   "cell_type": "code",
   "execution_count": 17,
   "metadata": {
    "ExecuteTime": {
     "end_time": "2023-10-13T07:53:06.438405Z",
     "start_time": "2023-10-13T07:52:58.776471Z"
    }
   },
   "outputs": [
    {
     "data": {
      "image/png": "[encoded data removed]",
      "text/plain": [
       "<Figure size 576x396 with 2 Axes>"
      ]
     },
     "metadata": {
      "needs_background": "light"
     },
     "output_type": "display_data"
    }
   ],
   "source": [
    "# summarize the effects of all the features\n",
    "import matplotlib.pyplot as plt\n",
    "shap.summary_plot(shap_values, train_x,show=False,feature_names=name,max_display = 10)\n",
    "plt.savefig(\"Feature importance1.tif\", dpi =300)"
   ]
  },
  {
   "cell_type": "code",
   "execution_count": null,
   "metadata": {},
   "outputs": [],
   "source": []
  }
 ],
 "metadata": {
  "kernelspec": {
   "display_name": "Python 3",
   "language": "python",
   "name": "python3"
  },
  "language_info": {
   "codemirror_mode": {
    "name": "ipython",
    "version": 3
   },
   "file_extension": ".py",
   "mimetype": "text/x-python",
   "name": "python",
   "nbconvert_exporter": "python",
   "pygments_lexer": "ipython3",
   "version": "3.7.0"
  },
  "toc": {
   "base_numbering": 1,
   "nav_menu": {},
   "number_sections": true,
   "sideBar": true,
   "skip_h1_title": false,
   "title_cell": "Table of Contents",
   "title_sidebar": "Contents",
   "toc_cell": false,
   "toc_position": {},
   "toc_section_display": true,
   "toc_window_display": false
  }
 },
 "nbformat": 4,
 "nbformat_minor": 2
}
